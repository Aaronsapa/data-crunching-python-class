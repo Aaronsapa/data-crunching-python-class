{
 "cells": [
  {
   "cell_type": "markdown",
   "metadata": {},
   "source": [
    "# Introduction\n",
    "## Data Crunching\n",
    "*[Source](https://en.ryte.com/wiki/Data_Crunching)*\n",
    "\n",
    "Data Crunching is a method in information science which makes the preparation of automated processing of large amounts of data and information (Big Data) possible. Data Crunching consists of preparing and modelling a system or application that is used: The data is processed, sorted and structured to run algorithms and program sequences on it. The term crunched data therefore refers to data that has already been imported and processed in a system. Similar terms include data munging and data wrangling - these refer more to manual or semi-automatic processing of data, which is why they are significantly different to data crunching.\n",
    "### Functionality\n",
    "Data crunching, however, does not refer to exploratory analysis or the visualization of data – that is done by special programs which are tailored to their area of application. Data crunching is more about correct processing, so that a system can do something with the records and the data format. Data crunching is therefore an upstream process of data analysis. This process, as the data analysis itself, can be iterative when the output of the crunching process includes new data or errors. This means that the program sequences may be repeated until the desired result is achieved: an accurate, correct data set that can be further processed directly or imported and does not contain any errors or bugs.\n",
    "\n",
    "### Practical relevance\n",
    "Most data crunching tasks can be simplified into three steps. First, the raw data is read in order to convert it into a selected format as the next step. Finally, the data is output in the correct format, so it can be further processed or analyzed. This trichotomy has the advantage that the individual data (input, output) can also be used for other scenarios.\n",
    "\n",
    "Some applications of data crunching are:\n",
    "\n",
    "- Further processing of inherited data within a program code.\n",
    "- The conversion of one format to another, for example, plain text to XML data records.\n",
    "- The correction of errors in data sets, whether spelling errors or program errors.\n",
    "- Extraction of raw data in order to prepare for subsequent evaluation.\n",
    "\n",
    "As a rule, a lot of time can be saved with data crunching because the processes do not need to be performed manually. Therefore, particularly with large data sets and relational databases, data crunching can be a significant advantage. However, appropriate infrastructure is necessary to have the computing power for such operations. A system like Hadoop, for example, distributes the computer load across multiple resources and performs arithmetic processes on computer"
   ]
  },
  {
   "cell_type": "markdown",
   "metadata": {},
   "source": [
    "___"
   ]
  },
  {
   "cell_type": "markdown",
   "metadata": {},
   "source": [
    "### Understanding Raw Data\n",
    "*[Source](https://www.business2community.com/big-data/big-data-what-is-it-and-how-does-it-work-02265540)*\n",
    "\n",
    "![The Vs of Big Data](./images/intro/the_vs.png)\n",
    "## Volume\n",
    "As the name suggests, Big Data suggests we are talking about high volumes of data. So the amount of data that you receive matters. This can be data of unknown value, such as data on the number of clicks on a webpage or a mobile app. It might be tens of terabytes of data for some organizations, and for others, it may be hundreds of petabytes. Or you may know exactly the source and the value of the data you receive, but still we are talking for big volumes that you are going to receive on a daily basis.\n",
    "\n",
    "## Velocity\n",
    "Velocity is the big V that represents how fast is the rate at which data is received and treated. If the data is streamed directly into the memory and not written on a disk, it means that the velocity will be higher, and consequently you will operate way faster and provide near real-time data. But this will also require the means to evaluate the data in real-time. Velocity is also the big V that is the most important for fields like machine learning and artificial intelligence.\n",
    "\n",
    "## Variety\n",
    "Variety refers to the types of data that are available. When you work with so much data, you need to know that a big part of it is unstructured and semistructured (text, audio, video, etc.). It will require some additional processing of the metadata to make it understandable for everybody.\n",
    "\n",
    "## Veracity\n",
    "Veracity refers to how accurate the data in the data sets is. You can collect a lot of data from social media or websites, but how can you be sure that the data is accurate and correct? Low-quality data without verification can cause issues. Uncertain data may lead to inaccurate analysis and cause you to make bad decisions. As a result, you need to always verify your data and be sure that you have enough accurate data available to have valid and meaningful results.\n",
    "\n",
    "## Value\n",
    "As we said, not all data collected has value and can be used to make business decisions. It is important to know the value of the data you have at your disposal. And you will have to set in place means to clean your data and confirm that the data is relevant for the current purpose you have in mind.\n",
    "\n",
    "## Variability\n",
    "When you have a lot of data you can actually use it for multiple purposes and format it in different ways. It is not easy to collect so much data, analyze it and manage it in the right way, so it’s normal to use it multiple times. This is what the variability stands for: the option to use the data for multiple purposes.\n",
    "\n",
    "We now know a lot about Big Data – what it is, the types of data and the big Vs. But this isn’t really all that useful if we don’t know what Big Data can do and why it’s becoming increasingly important."
   ]
  },
  {
   "cell_type": "markdown",
   "metadata": {},
   "source": [
    "---"
   ]
  },
  {
   "cell_type": "markdown",
   "metadata": {},
   "source": [
    "# Types of Data"
   ]
  },
  {
   "cell_type": "markdown",
   "metadata": {},
   "source": [
    "*[Source](https://www.business2community.com/big-data/big-data-what-is-it-and-how-does-it-work-02265540)*\n",
    "![Types of Data](./images/intro/data_types.png)"
   ]
  },
  {
   "cell_type": "code",
   "execution_count": null,
   "metadata": {},
   "outputs": [],
   "source": []
  }
 ],
 "metadata": {
  "kernelspec": {
   "display_name": "Python 3",
   "language": "python",
   "name": "python3"
  },
  "language_info": {
   "codemirror_mode": {
    "name": "ipython",
    "version": 3
   },
   "file_extension": ".py",
   "mimetype": "text/x-python",
   "name": "python",
   "nbconvert_exporter": "python",
   "pygments_lexer": "ipython3",
   "version": "3.9.1"
  }
 },
 "nbformat": 4,
 "nbformat_minor": 4
}
