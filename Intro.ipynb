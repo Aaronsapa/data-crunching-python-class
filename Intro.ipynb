{
 "cells": [
  {
   "cell_type": "markdown",
   "metadata": {},
   "source": [
    "# Introduction\n",
    "## Data Crunching\n",
    "*[Source](https://en.ryte.com/wiki/Data_Crunching)*\n",
    "\n",
    "Data Crunching is a method in information science which makes the preparation of automated processing of large amounts of data and information (Big Data) possible. Data Crunching consists of preparing and modelling a system or application that is used: The data is processed, sorted and structured to run algorithms and program sequences on it. The term crunched data therefore refers to data that has already been imported and processed in a system. Similar terms include data munging and data wrangling - these refer more to manual or semi-automatic processing of data, which is why they are significantly different to data crunching.\n",
    "### Functionality\n",
    "Data crunching, however, does not refer to exploratory analysis or the visualization of data – that is done by special programs which are tailored to their area of application. Data crunching is more about correct processing, so that a system can do something with the records and the data format. Data crunching is therefore an upstream process of data analysis. This process, as the data analysis itself, can be iterative when the output of the crunching process includes new data or errors. This means that the program sequences may be repeated until the desired result is achieved: an accurate, correct data set that can be further processed directly or imported and does not contain any errors or bugs.\n",
    "\n",
    "### Practical relevance\n",
    "Most data crunching tasks can be simplified into three steps. First, the raw data is read in order to convert it into a selected format as the next step. Finally, the data is output in the correct format, so it can be further processed or analyzed. This trichotomy has the advantage that the individual data (input, output) can also be used for other scenarios.\n",
    "\n",
    "Some applications of data crunching are:\n",
    "\n",
    "- Further processing of inherited data within a program code.\n",
    "- The conversion of one format to another, for example, plain text to XML data records.\n",
    "- The correction of errors in data sets, whether spelling errors or program errors.\n",
    "- Extraction of raw data in order to prepare for subsequent evaluation.\n",
    "\n",
    "As a rule, a lot of time can be saved with data crunching because the processes do not need to be performed manually. Therefore, particularly with large data sets and relational databases, data crunching can be a significant advantage. However, appropriate infrastructure is necessary to have the computing power for such operations. A system like Hadoop, for example, distributes the computer load across multiple resources and performs arithmetic processes on computer"
   ]
  },
  {
   "cell_type": "markdown",
   "metadata": {},
   "source": [
    "___"
   ]
  },
  {
   "cell_type": "markdown",
   "metadata": {},
   "source": [
    "### Understanding Raw Data\n",
    "*[Source](https://www.business2community.com/big-data/big-data-what-is-it-and-how-does-it-work-02265540)*\n",
    "\n",
    "![The Vs of Big Data](./images/intro/the_vs.png)\n",
    "## Volume\n",
    "As the name suggests, Big Data suggests we are talking about high volumes of data. So the amount of data that you receive matters. This can be data of unknown value, such as data on the number of clicks on a webpage or a mobile app. It might be tens of terabytes of data for some organizations, and for others, it may be hundreds of petabytes. Or you may know exactly the source and the value of the data you receive, but still we are talking for big volumes that you are going to receive on a daily basis.\n",
    "\n",
    "## Velocity\n",
    "Velocity is the big V that represents how fast is the rate at which data is received and treated. If the data is streamed directly into the memory and not written on a disk, it means that the velocity will be higher, and consequently you will operate way faster and provide near real-time data. But this will also require the means to evaluate the data in real-time. Velocity is also the big V that is the most important for fields like machine learning and artificial intelligence.\n",
    "\n",
    "## Variety\n",
    "Variety refers to the types of data that are available. When you work with so much data, you need to know that a big part of it is unstructured and semistructured (text, audio, video, etc.). It will require some additional processing of the metadata to make it understandable for everybody.\n",
    "\n",
    "## Veracity\n",
    "Veracity refers to how accurate the data in the data sets is. You can collect a lot of data from social media or websites, but how can you be sure that the data is accurate and correct? Low-quality data without verification can cause issues. Uncertain data may lead to inaccurate analysis and cause you to make bad decisions. As a result, you need to always verify your data and be sure that you have enough accurate data available to have valid and meaningful results.\n",
    "\n",
    "## Value\n",
    "As we said, not all data collected has value and can be used to make business decisions. It is important to know the value of the data you have at your disposal. And you will have to set in place means to clean your data and confirm that the data is relevant for the current purpose you have in mind.\n",
    "\n",
    "## Variability\n",
    "When you have a lot of data you can actually use it for multiple purposes and format it in different ways. It is not easy to collect so much data, analyze it and manage it in the right way, so it’s normal to use it multiple times. This is what the variability stands for: the option to use the data for multiple purposes.\n",
    "\n",
    "We now know a lot about Big Data – what it is, the types of data and the big Vs. But this isn’t really all that useful if we don’t know what Big Data can do and why it’s becoming increasingly important."
   ]
  },
  {
   "cell_type": "markdown",
   "metadata": {},
   "source": [
    "---"
   ]
  },
  {
   "cell_type": "markdown",
   "metadata": {},
   "source": [
    "# Types of Data"
   ]
  },
  {
   "cell_type": "markdown",
   "metadata": {},
   "source": [
    "*[Source](https://www.business2community.com/big-data/big-data-what-is-it-and-how-does-it-work-02265540)*\n",
    "![Types of Data](./images/intro/data_types.png)\n",
    "\n",
    "- **Structured data** is fixed-format and frequently numeric in nature. So, in most cases it is something that is handled by machines and not humans. This type of data consists of information already managed by the organization in databases and spreadsheets stored in SQL databases, data lakes and data warehouses.\n",
    "- **Unstructured data** is information that is unorganized and does not fall into a predetermined format because it can be almost anything. For example, it includes data gathered from social media sources and it can be put into text document files held in Hadoop like clusters or NoSQL systems.\n",
    "- **Semi-structured data** can contain both the forms of data such as web server logs or data from sensors that you have set up. To be precise, it refers to the data that, although has not been classified under a particular repository (database), still contains vital information or tags that segregate individual elements within the data."
   ]
  },
  {
   "cell_type": "markdown",
   "metadata": {},
   "source": [
    "# DBMS (Datab Base Management System)\n",
    "*[Source](https://searchsqlserver.techtarget.com/definition/database-management-system)*\n",
    "\n",
    "A database management system (DBMS) is system software for creating and managing databases. A DBMS makes it possible for end users to create, read, update and delete data in a database. The most prevalent type of data management platform, the DBMS essentially serves as an interface between databases and end users or application programs, ensuring that data is consistently organized and remains easily accessible.\n",
    "\n",
    "## Functions of a DBMS\n",
    "The DBMS manages three important things: the data, the database engine that allows data to be accessed, locked and modified, and the database schema, which defines the database's logical structure. These three foundational elements help provide concurrency, security, data integrity and uniform data administration procedures. Typical database administration tasks supported by the DBMS include change management, performance monitoring and tuning, security, and backup and recovery. Many database management systems are also responsible for automated rollbacks and restarts as well as the logging and auditing of activity in databases.\n",
    "\n",
    "The DBMS is perhaps most useful for providing a centralized view of data that can be accessed by multiple users, from multiple locations, in a controlled manner. A DBMS can limit what data the end user sees, as well as how that end user can view the data, providing many views of a single database schema. End users and software programs are free from having to understand where the data is physically located or on what type of storage media it resides because the DBMS handles all requests.\n",
    "\n",
    "![DBMS simple architechture](./images/intro/dbms.png)"
   ]
  },
  {
   "cell_type": "markdown",
   "metadata": {},
   "source": [
    "# RDBMS\n",
    "*[Source](https://medium.com/@swiftsnippets/database-system-s-rdbms-and-nosql-6afeef8168e5)*\n",
    "\n",
    "RDBMS supports the table oriented data model.\n",
    "- A relational schema — the logical definition of a table, defines the name of the table, the number of rows and columns and the data types.\n",
    "- A database schema is a collection of relational schemas in a database.\n",
    "- A record (entity) corresponds to a row in the table and consists of the values of each attribute.\n",
    "\n",
    "ACID (Atomicity, Consistency, Isolation and Durability) is a key feature for RDBMS. This allows safe sharing of data. ACID enforces the data to be completed correctly and be consistent throughout the system.\n",
    "\n",
    "Structured Query Language (SQL) is the standard language for RDBMS. You can perform update, delete, and retrieve data in the database. The data/object is represented as a table. These tables are uniquely identified by their field names and are comprised of rows and columns.\n",
    "\n",
    "## ACID\n",
    "*[Source](https://database.guide/what-is-acid-in-databases/)*\n",
    "\n",
    "### Atomicity\n",
    "Atomicity means that you guarantee that either all of the transaction succeeds or none of it does. You don’t get part of it succeeding and part of it not. If one part of the transaction fails, the whole transaction fails. With atomicity, it’s either “all or nothing”.\n",
    "\n",
    "### Consistency\n",
    "This ensures that you guarantee that all data will be consistent. All data will be valid according to all defined rules, including any constraints, cascades, and triggers that have been applied on the database.\n",
    "\n",
    "### Isolation\n",
    "Guarantees that all transactions will occur in isolation. No transaction will be affected by any other transaction. So a transaction cannot read data from any other transaction that has not yet completed.\n",
    "\n",
    "### Durability\n",
    "Durability means that, once a transaction is committed, it will remain in the system – even if there’s a system crash immediately following the transaction. Any changes from the transaction must be stored permanently. If the system tells the user that the transaction has succeeded, the transaction must have, in fact, succeeded."
   ]
  },
  {
   "cell_type": "markdown",
   "metadata": {},
   "source": [
    "## Scaling\n",
    "\n",
    "### Vertical Scaling\n",
    "Vertical scalability is the ability to increase the capacity of existing hardware or software by adding resources.\n",
    "\n",
    "### Horizontal Scaling\n",
    "Horizontal scalability is the ability to increase capacity by connecting multiple hardware or software entities"
   ]
  },
  {
   "cell_type": "markdown",
   "metadata": {},
   "source": [
    "## CAP Theorem\n",
    "*[Source](https://www.ibm.com/cloud/learn/cap-theorem)*\n",
    "\n",
    "The CAP theorem applies a similar type of logic to distributed systems—namely, that a distributed system can deliver only two of three desired characteristics: consistency, availability, and partition tolerance (the ‘C,’ ‘A’ and ‘P’ in CAP).\n",
    "\n",
    "### Consistency\n",
    "Consistency means that all clients see the same data at the same time, no matter which node they connect to. For this to happen, whenever data is written to one node, it must be instantly forwarded or replicated to all the other nodes in the system before the write is deemed ‘successful.’\n",
    "\n",
    "### Availability\n",
    "Availability means that that any client making a request for data gets a response, even if one or more nodes are down. Another way to state this—all working nodes in the distributed system return a valid response for any request, without exception.\n",
    "\n",
    "### Partition tolerance\n",
    "A partition is a communications break within a distributed system—a lost or temporarily delayed connection between two nodes. Partition tolerance means that the cluster must continue to work despite any number of communication breakdowns between nodes in the system."
   ]
  },
  {
   "cell_type": "markdown",
   "metadata": {},
   "source": [
    "## NoSQL \n",
    "*[Source](https://www.ibm.com/cloud/learn/cap-theorem)*\n",
    "\n",
    "NoSQL (non-relational) databases are ideal for distributed network applications. Unlike their vertically scalable SQL (relational) counterparts, NoSQL databases are horizontally scalable and distributed by design—they can rapidly scale across a growing network consisting of multiple interconnected nodes. (See \"SQL vs. NoSQL Databases: What's the Difference?\" for more information.)\n",
    "\n",
    "Today, NoSQL databases are classified based on the two CAP characteristics they support:\n",
    "\n",
    "- CP database: A CP database delivers consistency and partition tolerance at the expense of availability. When a partition occurs between any two nodes, the system has to shut down the non-consistent node (i.e., make it unavailable) until the partition is resolved.\n",
    "- AP database: An AP database delivers availability and partition tolerance at the expense of consistency. When a partition occurs, all nodes remain available but those at the wrong end of a partition might return an older version of data than others. (When the partition is resolved, the AP databases typically resync the nodes to repair all inconsistencies in the system.)\n",
    "- CA database: A CA database delivers consistency and availability across all nodes. It can’t do this if there is a partition between any two nodes in the system, however, and therefore can’t deliver fault tolerance.\n",
    "\n",
    "## What is NoSQL\n",
    "*[Source](https://www.mongodb.com/nosql-explained)*\n",
    "\n",
    "NoSQL databases (aka \"not only SQL\") are non tabular, and store data differently than relational tables. NoSQL databases come in a variety of types based on their data model. The main types are document, key-value, wide-column, and graph. They provide flexible schemas and scale easily with large amounts of data and high user loads.\n",
    "\n",
    "Over time, four major types of NoSQL databases emerged: document databases, key-value databases, wide-column stores, and graph databases. Let’s examine each type.\n",
    "\n",
    "- Document databases store data in documents similar to JSON (JavaScript Object Notation) objects. Each document contains pairs of fields and values. The values can typically be a variety of types including things like strings, numbers, booleans, arrays, or objects, and their structures typically align with objects developers are working with in code. Because of their variety of field value types and powerful query languages, document databases are great for a wide variety of use cases and can be used as a general purpose database. They can horizontally scale-out to accomodate large data volumes. MongoDB is consistently ranked as the world’s most popular NoSQL database according to DB-engines and is an example of a document database. For more on document databases, visit What is a Document Database?.\n",
    "\n",
    "- Key-value databases are a simpler type of database where each item contains keys and values. A value can typically only be retrieved by referencing its key, so learning how to query for a specific key-value pair is typically simple. Key-value databases are great for use cases where you need to store large amounts of data but you don’t need to perform complex queries to retrieve it. Common use cases include storing user preferences or caching. Redis and DynanoDB are popular key-value databases.\n",
    "\n",
    "- Wide-column stores store data in tables, rows, and dynamic columns. Wide-column stores provide a lot of flexibility over relational databases because each row is not required to have the same columns. Many consider wide-column stores to be two-dimensional key-value databases. Wide-column stores are great for when you need to store large amounts of data and you can predict what your query patterns will be. Wide-column stores are commonly used for storing Internet of Things data and user profile data. Cassandra and HBase are two of the most popular wide-column stores.\n",
    "\n",
    "- Graph databases store data in nodes and edges. Nodes typically store information about people, places, and things while edges store information about the relationships between the nodes. Graph databases excel in use cases where you need to traverse relationships to look for patterns such as social networks, fraud detection, and recommendation engines. Neo4j and JanusGraph are examples of graph databases.\n",
    "\n",
    "\n",
    "![NoSQL example](./images/intro/nosql_db.png)"
   ]
  },
  {
   "cell_type": "markdown",
   "metadata": {},
   "source": [
    "## Comparison\n",
    "![Comparison](./images/intro/sql_vs_nosql.png)"
   ]
  },
  {
   "cell_type": "markdown",
   "metadata": {},
   "source": [
    "# Horizontally scalable\n",
    "## Hadoop Ecosystem\n",
    "*[Source](https://www.edureka.co/blog/hadoop-ecosystem)*\n",
    "\n",
    "Hadoop Ecosystem is neither a programming language nor a service, it is a platform or framework which solves big data problems. You can consider it as a suite which encompasses a number of services (ingesting, storing, analyzing and maintaining) inside it. Let us discuss and get a brief idea about how the services work individually and in collaboration.\n",
    "\n",
    "![Ecosystem](./images/intro/hadoop_ecosystem.png)\n",
    "\n",
    "- HDFS -> Hadoop Distributed File System\n",
    "- YARN -> Yet Another Resource Negotiator\n",
    "- MapReduce -> Data processing using programming\n",
    "- Spark -> In-memory Data Processing\n",
    "- PIG, HIVE-> Data Processing Services using Query (SQL-like)\n",
    "- HBase -> NoSQL Database\n",
    "- Mahout, Spark MLlib -> Machine Learning\n",
    "- Apache Drill -> SQL on Hadoop\n",
    "- Zookeeper -> Managing Cluster\n",
    "- Oozie -> Job Scheduling\n",
    "- Flume, Sqoop -> Data Ingesting Services\n",
    "- Solr & Lucene -> Searching & Indexing \n",
    "- Ambari -> Provision, Monitor and Maintain cluster\n",
    "## Google Cloud Services\n",
    "\n",
    "![Google Cloud](./images/intro/google_services.png)\n",
    "## Amazon Web Services\n",
    "![AWS](./images/intro/aws_portfolio.JPg)"
   ]
  },
  {
   "cell_type": "markdown",
   "metadata": {},
   "source": [
    "# Resources\n",
    "- [How to choose a modern database?](https://www.xplenty.com/blog/which-database/)\n",
    "- [Google Cloud Platform And It’s Products For Beginners.(Overview)](https://medium.com/@saruguru008/google-cloud-platform-and-its-products-for-beginners-overview-76c5fdb7097c)\n",
    "- [AWS Certification](https://aws.amazon.com/certification/certified-big-data-specialty/)"
   ]
  }
 ],
 "metadata": {
  "kernelspec": {
   "display_name": "Python 3",
   "language": "python",
   "name": "python3"
  },
  "language_info": {
   "codemirror_mode": {
    "name": "ipython",
    "version": 3
   },
   "file_extension": ".py",
   "mimetype": "text/x-python",
   "name": "python",
   "nbconvert_exporter": "python",
   "pygments_lexer": "ipython3",
   "version": "3.9.1"
  }
 },
 "nbformat": 4,
 "nbformat_minor": 4
}
