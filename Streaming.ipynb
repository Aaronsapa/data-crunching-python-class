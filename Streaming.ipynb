{
 "cells": [
  {
   "cell_type": "code",
   "execution_count": 5,
   "id": "vocal-seating",
   "metadata": {},
   "outputs": [],
   "source": [
    "from utils.newsconsumer import NewsConsumer\n",
    "from utils import nlputil"
   ]
  },
  {
   "cell_type": "markdown",
   "id": "narrow-samuel",
   "metadata": {},
   "source": [
    "```Python\n",
    "from typing import NoReturn\n",
    "\n",
    "def saveText(self, text: str)-> NoReturn:\n",
    "    connection = psycopg2.connect(f\"dbname={self.db_name} user={self.user}\")\n",
    "    if not text:\n",
    "        return\n",
    "    with connection.cursor() as cursor:\n",
    "        cursor.execute(\"\"\"\n",
    "        INSERT INTO documents_raw(text) VALUES (%s);\n",
    "        \"\"\", (text,))\n",
    "        connection.commit()\n",
    "        cursor.close()\n",
    "    connection.close()\n",
    "```"
   ]
  },
  {
   "cell_type": "code",
   "execution_count": 1,
   "id": "vulnerable-volunteer",
   "metadata": {},
   "outputs": [],
   "source": [
    "from utils.connectorutil import Connector\n",
    "import tweepy\n",
    "import time\n",
    "import json\n",
    "class Streamlistener(tweepy.StreamListener):\n",
    "    def __init__(self, time_limit=300, rate_limit=450):\n",
    "        self.start_time = time.time()\n",
    "        self.rate_limit = rate_limit\n",
    "        self.time_limit = time_limit\n",
    "        self.num_tweets = 0\n",
    "\n",
    "    def on_connect(self):\n",
    "        print(\"You are connected to the Twitter API\")\n",
    "\n",
    "\n",
    "    def on_error(self, status_code):\n",
    "        if status_code != 200:\n",
    "            print(\"error found\")\n",
    "            print(status_code)\n",
    "            # returning false disconnects the stream\n",
    "            return False\n",
    "\n",
    "    def on_data(self, data):\n",
    "    \n",
    "        raw_data = json.loads(data)\n",
    "        connector = Connector('postgres', 'aaronsapa')\n",
    "        if 'text' in raw_data:\n",
    "            connector.saveText(text=raw_data['text'])\n",
    "            self.num_tweets+=1\n",
    "            print(\"Tweet colleted at: {} \".format(str(time.time())))\n",
    "\n",
    "        return (time.time() - self.start_time) < self.time_limit and self.num_tweets < self.rate_limit\n"
   ]
  },
  {
   "cell_type": "code",
   "execution_count": 4,
   "id": "reserved-affect",
   "metadata": {},
   "outputs": [],
   "source": [
    "import os\n",
    "import tweepy\n",
    "auth = tweepy.OAuthHandler(key, keys)\n",
    "auth.set_access_token(at, ats)\n",
    "api = tweepy.API(auth)\n"
   ]
  },
  {
   "cell_type": "code",
   "execution_count": null,
   "id": "considered-revolution",
   "metadata": {},
   "outputs": [],
   "source": [
    "myStream = tweepy.Stream(auth=api.auth, listener=Streamlistener(time_limit=60))\n",
    "myStream.filter(track=['vaccine'])"
   ]
  }
 ],
 "metadata": {
  "kernelspec": {
   "display_name": "Python 3",
   "language": "python",
   "name": "python3"
  },
  "language_info": {
   "codemirror_mode": {
    "name": "ipython",
    "version": 3
   },
   "file_extension": ".py",
   "mimetype": "text/x-python",
   "name": "python",
   "nbconvert_exporter": "python",
   "pygments_lexer": "ipython3",
   "version": "3.9.0"
  }
 },
 "nbformat": 4,
 "nbformat_minor": 5
}
